{
 "cells": [
  {
   "cell_type": "code",
   "execution_count": 1,
   "metadata": {},
   "outputs": [],
   "source": [
    "import glob\n",
    "import torch\n",
    "import torch.nn as nn\n",
    "from torch.utils.data import DataLoader\n",
    "from torch.utils.data.dataset import Dataset\n",
    "import csv\n",
    "import random\n",
    "import numpy as np\n",
    "import os"
   ]
  },
  {
   "cell_type": "markdown",
   "metadata": {},
   "source": [
    "# Dataset loader and Data Preprocessing"
   ]
  },
  {
   "cell_type": "code",
   "execution_count": 2,
   "metadata": {},
   "outputs": [],
   "source": [
    "class Exercise2Dataset(Dataset):\n",
    "    \"\"\"Exercise2 dataset.\"\"\"\n",
    "    def __init__(self, root_dir, shuffle=False):\n",
    "        \"\"\"\n",
    "        Args:\n",
    "            root_dir (string): Directory with the dataset files.\n",
    "            shuffle (bool): Shuffle or not\n",
    "        \"\"\"\n",
    "        self.all_data = []\n",
    "        self.root_dir = root_dir\n",
    "        \n",
    "        pattern = r'*_*_*.txt'\n",
    "        pattern = os.path.join(root_dir, pattern)\n",
    "        for pathname in glob.glob(pattern):\n",
    "            # retrieve label(x, y, theta) from filename\n",
    "            filename = os.path.basename(pathname)\n",
    "            x_y_theta, _ = filename.split('.txt')\n",
    "            x, y, theta = x_y_theta.split('_')\n",
    "            #print(x, y, theta)\n",
    "            if x.startswith('n'):\n",
    "                x = - float(x[1:])\n",
    "            else:\n",
    "                x = float(x[0:])\n",
    "\n",
    "            if y.startswith('n'):\n",
    "                y = - float(y[1:])\n",
    "            else:\n",
    "                y = float(y[0:])\n",
    "\n",
    "            theta = float(theta) / 360 * 2 * 3.14159265  # convert degree to rad\n",
    "            #print(x, y, theta)\n",
    "            \n",
    "            with open(pathname, 'r') as file:\n",
    "                csvreader = csv.reader(file,  delimiter=' ')\n",
    "                for row in csvreader:\n",
    "                    row = list(map(float, row))\n",
    "                    row.append(x)\n",
    "                    row.append(y)\n",
    "                    row.append(theta)\n",
    "                    self.all_data.append(row)\n",
    "                    #print(row)\n",
    "                \n",
    "        # shuffle\n",
    "        if shuffle:\n",
    "            random.shuffle(self.all_data)\n",
    "            print(\"Dataset shuffle = True!\")\n",
    "        #print(self.all_data)      # dim = (13600, 9),  the 9 values are defined as: {d1f, d2f, d3f, d1r, d2r, d3r, x(m), y(m), theta(rad)} \n",
    "        \n",
    "        ### Data preprocessing\n",
    "        # Compute  dataset mean and std\n",
    "        examples = torch.from_numpy(np.array(self.all_data)[:, :6]).float()   # (13600, 6)\n",
    "        #print(examples.shape)\n",
    "        self.labels = torch.from_numpy(np.array(self.all_data)[:, 6:]).float()   # (13600, 3)\n",
    "        #print(self.labels.shape)\n",
    "        \n",
    "        # Compute mean and std  \n",
    "        mu =  examples.mean(dim=0)\n",
    "        sigma = examples.std(dim=0, unbiased=False)\n",
    "        \n",
    "        # Compute normalized examples:   x_prime = (x - mu) / sigma\n",
    "        self.normalized_examples = (examples - mu) / sigma\n",
    "        #print(self.normalized_examples.shape)  # (13600, 6)\n",
    "        \n",
    "    \n",
    "  \n",
    "    def __len__(self):\n",
    "        return len(self.normalized_examples)\n",
    "\n",
    "    def __getitem__(self, idx):\n",
    "        example = self.normalized_examples[idx]   # (N,6)\n",
    "        xytheta = self.labels[idx]     # (N,3)\n",
    "        \n",
    "        return example, xytheta"
   ]
  },
  {
   "cell_type": "markdown",
   "metadata": {},
   "source": [
    "# Load the whole dataset"
   ]
  },
  {
   "cell_type": "code",
   "execution_count": 3,
   "metadata": {},
   "outputs": [
    {
     "name": "stdout",
     "output_type": "stream",
     "text": [
      "Dataset shuffle = True!\n"
     ]
    }
   ],
   "source": [
    "exercise2_dataset = Exercise2Dataset(root_dir = './dataset/', shuffle=True)"
   ]
  },
  {
   "cell_type": "code",
   "execution_count": 4,
   "metadata": {},
   "outputs": [
    {
     "data": {
      "text/plain": [
       "13600"
      ]
     },
     "execution_count": 4,
     "metadata": {},
     "output_type": "execute_result"
    }
   ],
   "source": [
    "len(exercise2_dataset)"
   ]
  },
  {
   "cell_type": "markdown",
   "metadata": {},
   "source": [
    "# Split dataset by 0.8: 0.1: 0.1"
   ]
  },
  {
   "cell_type": "code",
   "execution_count": 5,
   "metadata": {},
   "outputs": [],
   "source": [
    "train_examples, train_labels = exercise2_dataset[:int(13600*0.8)]                # (13600, 6), (13600, 3)\n",
    "val_examples, val_labels = exercise2_dataset[int(13600*0.8):int(13600*0.9)]            # (1360, 6), (1360, 3)\n",
    "test_examples, test_labels = exercise2_dataset[int(13600*0.9):]                                      # (1360, 6), (1360, 3)"
   ]
  },
  {
   "cell_type": "markdown",
   "metadata": {},
   "source": [
    "# Define our model structure"
   ]
  },
  {
   "cell_type": "code",
   "execution_count": 6,
   "metadata": {},
   "outputs": [],
   "source": [
    "class Net(nn.Module):\n",
    "  \n",
    "    def __init__(self, x_dim, y_dim):\n",
    "        super(Net, self).__init__()\n",
    "\n",
    "        self.linear_relu_stack = nn.Sequential(\n",
    "            nn.Linear(x_dim, 64),\n",
    "            nn.ReLU(),\n",
    "            nn.Linear(64, 128),\n",
    "            nn.ReLU(),\n",
    "            nn.Linear(128, 256),\n",
    "            nn.ReLU(),\n",
    "            nn.Linear(256, 256),\n",
    "            nn.ReLU(),\n",
    "            nn.Linear(256, y_dim),\n",
    "        )\n",
    "        \n",
    "    def forward(self, x):\n",
    "        y_pred = self.linear_relu_stack(x)\n",
    "\n",
    "        return y_pred"
   ]
  },
  {
   "cell_type": "markdown",
   "metadata": {},
   "source": [
    "# Define model, loss function and optimizer"
   ]
  },
  {
   "cell_type": "code",
   "execution_count": 7,
   "metadata": {},
   "outputs": [],
   "source": [
    "# if we have GPU, then use it\n",
    "device = torch.device(\"cuda:0\" if torch.cuda.is_available() else \"cpu\")\n",
    "\n",
    "model = Net(x_dim = train_examples.shape[1], y_dim = train_labels.shape[1]).to(device)  # x_dim=6, y_dim = 3\n",
    "loss_fn = nn.MSELoss(reduction='mean').to(device)\n",
    "optimizer = torch.optim.Adam(model.parameters(), lr=1e-3)"
   ]
  },
  {
   "cell_type": "code",
   "execution_count": 8,
   "metadata": {},
   "outputs": [
    {
     "name": "stdout",
     "output_type": "stream",
     "text": [
      "cuda:0\n",
      "Net(\n",
      "  (linear_relu_stack): Sequential(\n",
      "    (0): Linear(in_features=6, out_features=64, bias=True)\n",
      "    (1): ReLU()\n",
      "    (2): Linear(in_features=64, out_features=128, bias=True)\n",
      "    (3): ReLU()\n",
      "    (4): Linear(in_features=128, out_features=256, bias=True)\n",
      "    (5): ReLU()\n",
      "    (6): Linear(in_features=256, out_features=256, bias=True)\n",
      "    (7): ReLU()\n",
      "    (8): Linear(in_features=256, out_features=3, bias=True)\n",
      "  )\n",
      ")\n"
     ]
    }
   ],
   "source": [
    "print(device)\n",
    "print(model)"
   ]
  },
  {
   "cell_type": "code",
   "execution_count": 9,
   "metadata": {},
   "outputs": [],
   "source": [
    "# define the loss threshold, if the current  train loss is lower than the threshold, we will save the model\n",
    "best_loss = 100"
   ]
  },
  {
   "cell_type": "markdown",
   "metadata": {},
   "source": [
    "# Training and Validation"
   ]
  },
  {
   "cell_type": "code",
   "execution_count": 10,
   "metadata": {},
   "outputs": [
    {
     "name": "stdout",
     "output_type": "stream",
     "text": [
      "epoch:  0 train_loss: 6.16365385055542 val_loss: 6.051074504852295\n",
      "epoch:  100 train_loss: 0.8339645862579346 val_loss: 0.8199544548988342\n",
      "epoch:  200 train_loss: 0.2753312289714813 val_loss: 0.28653091192245483\n",
      "epoch:  300 train_loss: 0.11530991643667221 val_loss: 0.130681112408638\n",
      "epoch:  400 train_loss: 0.06486625224351883 val_loss: 0.08179006725549698\n",
      "epoch:  500 train_loss: 0.04556521400809288 val_loss: 0.06239883229136467\n",
      "epoch:  600 train_loss: 0.03195178136229515 val_loss: 0.04677051678299904\n",
      "epoch:  700 train_loss: 0.024795949459075928 val_loss: 0.03863148391246796\n",
      "epoch:  800 train_loss: 0.020539289340376854 val_loss: 0.03396885469555855\n",
      "epoch:  900 train_loss: 0.017852745950222015 val_loss: 0.03252364695072174\n",
      "epoch:  1000 train_loss: 0.015667326748371124 val_loss: 0.02874547429382801\n",
      "epoch:  1100 train_loss: 0.015271347016096115 val_loss: 0.027936987578868866\n",
      "epoch:  1200 train_loss: 0.012350384145975113 val_loss: 0.02581457421183586\n",
      "epoch:  1300 train_loss: 0.011744472198188305 val_loss: 0.024321911856532097\n",
      "epoch:  1400 train_loss: 0.012358120642602444 val_loss: 0.02771034650504589\n",
      "epoch:  1500 train_loss: 0.022084813565015793 val_loss: 0.04212065041065216\n",
      "epoch:  1600 train_loss: 0.011758650653064251 val_loss: 0.02792971581220627\n",
      "epoch:  1700 train_loss: 0.009416893124580383 val_loss: 0.02121908590197563\n",
      "epoch:  1800 train_loss: 0.008073803037405014 val_loss: 0.021404538303613663\n",
      "epoch:  1900 train_loss: 0.007312615402042866 val_loss: 0.019526705145835876\n",
      "epoch:  2000 train_loss: 0.006967448629438877 val_loss: 0.018870465457439423\n",
      "epoch:  2100 train_loss: 0.009088643826544285 val_loss: 0.018380476161837578\n",
      "epoch:  2200 train_loss: 0.006499726790934801 val_loss: 0.018504494801163673\n",
      "epoch:  2300 train_loss: 0.007167121395468712 val_loss: 0.02051490545272827\n",
      "epoch:  2400 train_loss: 0.006416593212634325 val_loss: 0.018551228567957878\n",
      "epoch:  2500 train_loss: 0.006173028610646725 val_loss: 0.018562426790595055\n",
      "epoch:  2600 train_loss: 0.006287621334195137 val_loss: 0.01632012240588665\n",
      "epoch:  2700 train_loss: 0.005358068738132715 val_loss: 0.015701446682214737\n",
      "epoch:  2800 train_loss: 0.030127398669719696 val_loss: 0.0385235995054245\n",
      "epoch:  2900 train_loss: 0.004678561817854643 val_loss: 0.015378070995211601\n",
      "epoch:  3000 train_loss: 0.006264044437557459 val_loss: 0.015719261020421982\n",
      "epoch:  3100 train_loss: 0.004587395116686821 val_loss: 0.015844009816646576\n",
      "epoch:  3200 train_loss: 0.004310238640755415 val_loss: 0.014455355703830719\n",
      "epoch:  3300 train_loss: 0.004229335580021143 val_loss: 0.0142306387424469\n",
      "epoch:  3400 train_loss: 0.0040982686914503574 val_loss: 0.014174575917422771\n",
      "epoch:  3500 train_loss: 0.004170214757323265 val_loss: 0.013958201743662357\n",
      "epoch:  3600 train_loss: 0.00438460148870945 val_loss: 0.01396938506513834\n",
      "epoch:  3700 train_loss: 0.01082339696586132 val_loss: 0.024474045261740685\n",
      "epoch:  3800 train_loss: 0.004743544384837151 val_loss: 0.014024632051587105\n",
      "epoch:  3900 train_loss: 0.005586729384958744 val_loss: 0.017061350867152214\n",
      "epoch:  4000 train_loss: 0.0041083600372076035 val_loss: 0.014967290684580803\n",
      "epoch:  4100 train_loss: 0.004109643865376711 val_loss: 0.015265878289937973\n",
      "epoch:  4200 train_loss: 0.0060297478921711445 val_loss: 0.014722604304552078\n",
      "epoch:  4300 train_loss: 0.003512033261358738 val_loss: 0.014346685260534286\n",
      "epoch:  4400 train_loss: 0.0032928257714957 val_loss: 0.013315413147211075\n",
      "epoch:  4500 train_loss: 0.005441784858703613 val_loss: 0.017237765714526176\n",
      "epoch:  4600 train_loss: 0.0039743948727846146 val_loss: 0.01516241766512394\n",
      "epoch:  4700 train_loss: 0.0031642273534089327 val_loss: 0.013219364918768406\n",
      "epoch:  4800 train_loss: 0.0031364967580884695 val_loss: 0.013654337264597416\n",
      "epoch:  4900 train_loss: 0.00408957852050662 val_loss: 0.013755864463746548\n",
      "epoch:  5000 train_loss: 0.0033392722252756357 val_loss: 0.013029925525188446\n",
      "epoch:  5100 train_loss: 0.0030442550778388977 val_loss: 0.01354717556387186\n",
      "epoch:  5200 train_loss: 0.0031062844209372997 val_loss: 0.013038907200098038\n",
      "epoch:  5300 train_loss: 0.0029887084383517504 val_loss: 0.013062067329883575\n",
      "epoch:  5400 train_loss: 0.0029203288722783327 val_loss: 0.013446367345750332\n",
      "epoch:  5500 train_loss: 0.002896481892094016 val_loss: 0.013280222192406654\n",
      "epoch:  5600 train_loss: 0.0027606780640780926 val_loss: 0.013306837528944016\n",
      "epoch:  5700 train_loss: 0.003526924178004265 val_loss: 0.014137446880340576\n",
      "epoch:  5800 train_loss: 0.0035842310171574354 val_loss: 0.014658563770353794\n",
      "epoch:  5900 train_loss: 0.0028776635881513357 val_loss: 0.013401193544268608\n"
     ]
    }
   ],
   "source": [
    "# Training and Validation\n",
    "val_examples = val_examples.to(device)\n",
    "val_labels = val_labels.to(device)\n",
    "\n",
    "train_examples = train_examples.to(device)\n",
    "train_labels = train_labels.to(device)\n",
    "\n",
    "MODEL_FILENAME = \"best.pth\"\n",
    "# Training mode\n",
    "model.train()\n",
    "train_losses = []\n",
    "val_losses = []\n",
    "\n",
    "for epoch in range(6000):\n",
    "    # training loss\n",
    "    y_pred = model(train_examples)\n",
    "    loss = loss_fn(y_pred, train_labels).cpu()\n",
    "    #print(t, loss.item())\n",
    "    train_losses.append(loss.item())\n",
    "    \n",
    "    \n",
    "    # clear gradients\n",
    "    optimizer.zero_grad()\n",
    "    \n",
    "    # compute gradients\n",
    "    loss.backward()\n",
    "    \n",
    "    #  SGD\n",
    "    optimizer.step()\n",
    "    \n",
    "    # evaluate validation loss\n",
    "    val_pred = model(val_examples)\n",
    "    loss = loss_fn(val_pred, val_labels)\n",
    "    val_losses.append(loss.item())\n",
    "    \n",
    "    \n",
    "    if loss < best_loss:\n",
    "        best_loss = loss\n",
    "        torch.save(model.state_dict(), MODEL_FILENAME)\n",
    "    \n",
    "    \n",
    "    if (epoch % 100) == 0:\n",
    "        print(\"epoch: \", epoch, \"train_loss:\", train_losses[-1], \"val_loss:\", val_losses[-1])\n",
    "    "
   ]
  },
  {
   "cell_type": "markdown",
   "metadata": {},
   "source": [
    "# Plot the Loss history for training set and validation set"
   ]
  },
  {
   "cell_type": "code",
   "execution_count": 11,
   "metadata": {},
   "outputs": [],
   "source": [
    "import matplotlib.pyplot as plt\n",
    "def show_train_history(train_history, val_history):\n",
    "    plt.rcParams[\"figure.figsize\"] = (15, 5)\n",
    "    plt.plot(np.log(train_history))\n",
    "    plt.plot(np.log(val_history))\n",
    "    plt.title(\"Train_history\")\n",
    "    plt.ylabel(\"Log(MSELoss)\")\n",
    "    plt.xlabel(\"Epoch\")\n",
    "    plt.legend(['train', 'val'], loc='upper right')\n",
    "    plt.show()"
   ]
  },
  {
   "cell_type": "code",
   "execution_count": 12,
   "metadata": {},
   "outputs": [
    {
     "data": {
      "image/png": "[encoded data removed]",
      "text/plain": [
       "<Figure size 1080x360 with 1 Axes>"
      ]
     },
     "metadata": {
      "needs_background": "light"
     },
     "output_type": "display_data"
    }
   ],
   "source": [
    "show_train_history(train_losses, val_losses)"
   ]
  },
  {
   "cell_type": "code",
   "execution_count": null,
   "metadata": {},
   "outputs": [],
   "source": []
  },
  {
   "cell_type": "markdown",
   "metadata": {},
   "source": [
    "# Inference a single testing example"
   ]
  },
  {
   "cell_type": "code",
   "execution_count": 18,
   "metadata": {},
   "outputs": [
    {
     "name": "stdout",
     "output_type": "stream",
     "text": [
      "example:  tensor([-0.6558, -0.0869,  0.1563, -0.6899, -0.4165,  0.1586])\n",
      "========================================\n",
      "ground_truth: tensor([1.0000, 2.0000, 1.5708])\n",
      "prediction: tensor([0.9826, 2.0080, 1.5782], grad_fn=<ToCopyBackward0>)\n",
      "========================================\n",
      "Loss: tensor(0.0001, grad_fn=<ToCopyBackward0>)\n"
     ]
    }
   ],
   "source": [
    "model.eval()  # inference mode\n",
    "test_examples = test_examples.to(device)\n",
    "test_labels = test_labels.to(device)\n",
    "\n",
    "test_example = test_examples[888]\n",
    "test_label = test_labels[888]\n",
    "test_pred = model(test_example)\n",
    "\n",
    "print(\"example: \", test_example.cpu())\n",
    "print(\"========================================\")\n",
    "print(\"ground_truth:\", test_label.cpu())\n",
    "print(\"prediction:\", test_pred.cpu())\n",
    "print(\"========================================\")\n",
    "print(\"Loss:\", loss_fn(test_pred, test_label).cpu())"
   ]
  },
  {
   "cell_type": "markdown",
   "metadata": {},
   "source": [
    "# Inference all testing examples"
   ]
  },
  {
   "cell_type": "code",
   "execution_count": 20,
   "metadata": {},
   "outputs": [
    {
     "name": "stdout",
     "output_type": "stream",
     "text": [
      "example:  tensor([[-0.4658, -1.0959,  0.1669, -0.6191, -0.9230,  0.2650],\n",
      "        [-0.7399, -0.4818,  0.1513, -0.6493, -0.1523,  0.1508],\n",
      "        [ 1.5637,  0.0488, -1.0593,  1.7761,  0.5224, -1.0826],\n",
      "        ...,\n",
      "        [-1.0604, -0.1323,  1.4479, -0.7415, -0.4523,  1.3560],\n",
      "        [-0.5665, -0.8798,  0.1406, -0.5513, -1.0905,  0.2262],\n",
      "        [ 1.8455,  0.4721, -1.0722,  1.5263,  0.1257, -1.0360]])\n",
      "========================================\n",
      "ground_truth: tensor([[ 1.0000,  1.0000,  3.9270],\n",
      "        [ 1.0000,  2.0000,  4.7124],\n",
      "        [-3.0000,  0.0000,  0.0000],\n",
      "        ...,\n",
      "        [ 3.0000,  0.0000,  0.7854],\n",
      "        [ 1.0000,  1.0000,  1.5708],\n",
      "        [-3.0000,  0.0000,  3.1416]])\n",
      "prediction: tensor([[ 0.9657,  1.0210,  3.8455],\n",
      "        [ 1.0174,  1.9370,  4.6837],\n",
      "        [-2.9864, -0.0085, -0.0085],\n",
      "        ...,\n",
      "        [ 2.9643, -0.0639,  0.8559],\n",
      "        [ 0.9778,  1.0256,  1.6314],\n",
      "        [-2.9838,  0.0127,  3.1599]], grad_fn=<ToCopyBackward0>)\n",
      "========================================\n",
      "Loss: tensor(0.0985, grad_fn=<ToCopyBackward0>)\n"
     ]
    }
   ],
   "source": [
    "model.eval()  # inference mode\n",
    "test_examples = test_examples.to(device)\n",
    "test_labels = test_labels.to(device)\n",
    "\n",
    "test_example = test_examples\n",
    "test_label = test_labels\n",
    "test_pred = model(test_example)\n",
    "\n",
    "print(\"example: \", test_example.cpu())\n",
    "print(\"========================================\")\n",
    "print(\"ground_truth:\", test_label.cpu())\n",
    "print(\"prediction:\", test_pred.cpu())\n",
    "print(\"========================================\")\n",
    "print(\"Loss:\", loss_fn(test_pred, test_label).cpu())"
   ]
  },
  {
   "cell_type": "code",
   "execution_count": null,
   "metadata": {},
   "outputs": [],
   "source": []
  }
 ],
 "metadata": {
  "kernelspec": {
   "display_name": "Python 3 (ipykernel)",
   "language": "python",
   "name": "python3"
  },
  "language_info": {
   "codemirror_mode": {
    "name": "ipython",
    "version": 3
   },
   "file_extension": ".py",
   "mimetype": "text/x-python",
   "name": "python",
   "nbconvert_exporter": "python",
   "pygments_lexer": "ipython3",
   "version": "3.8.12"
  }
 },
 "nbformat": 4,
 "nbformat_minor": 4
}
